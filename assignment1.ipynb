{
 "cells": [
  {
   "cell_type": "markdown",
   "metadata": {},
   "source": [
    "# Assignment 1\n",
    "> Name: Cheng, Xue\n",
    ">\n",
    "> ID: 8887161\n",
    "\n",
    "\n",
    "\n",
    "# Task 1"
   ]
  },
  {
   "cell_type": "markdown",
   "metadata": {},
   "source": [
    "## 1. Import Libarey And Read File"
   ]
  },
  {
   "cell_type": "code",
   "execution_count": 82,
   "metadata": {},
   "outputs": [],
   "source": [
    "# install pandas module\n",
    "import pandas as pd\n",
    "\n",
    "dataset_file = 'Assignment1Data_Sample.csv'\n",
    "# test read csv file\n",
    "data = pd.read_csv(dataset_file)"
   ]
  },
  {
   "cell_type": "code",
   "execution_count": 83,
   "metadata": {},
   "outputs": [
    {
     "name": "stdout",
     "output_type": "stream",
     "text": [
      "<class 'pandas.core.frame.DataFrame'>\n",
      "RangeIndex: 204 entries, 0 to 203\n",
      "Data columns (total 41 columns):\n",
      " #   Column                   Non-Null Count  Dtype  \n",
      "---  ------                   --------------  -----  \n",
      " 0   Object Number            204 non-null    object \n",
      " 1   Object ID                204 non-null    int64  \n",
      " 2   Department               203 non-null    object \n",
      " 3   Object Name              203 non-null    object \n",
      " 4   Title                    194 non-null    object \n",
      " 5   Culture                  84 non-null     object \n",
      " 6   Period                   31 non-null     object \n",
      " 7   Dynasty                  9 non-null      object \n",
      " 8   Reign                    5 non-null      object \n",
      " 9   Portfolio                8 non-null      object \n",
      " 10  Artist Role              127 non-null    object \n",
      " 11  Artist Prefix            39 non-null     object \n",
      " 12  Artist Display Name      127 non-null    object \n",
      " 13  Artist Display Bio       108 non-null    object \n",
      " 14  Artist Suffix            5 non-null      object \n",
      " 15  Artist Nationality       87 non-null     object \n",
      " 16  Artist Begin Date        98 non-null     object \n",
      " 17  Artist End Date          97 non-null     object \n",
      " 18  Object Date              199 non-null    object \n",
      " 19  Object Begin Date        204 non-null    int64  \n",
      " 20  Object End Date          202 non-null    float64\n",
      " 21  Medium                   202 non-null    object \n",
      " 22  Dimensions               166 non-null    object \n",
      " 23  Credit Line              204 non-null    object \n",
      " 24  Geography Type           23 non-null     object \n",
      " 25  City                     14 non-null     object \n",
      " 26  State                    1 non-null      object \n",
      " 27  County                   3 non-null      object \n",
      " 28  Country                  32 non-null     object \n",
      " 29  Region                   18 non-null     object \n",
      " 30  Subregion                12 non-null     object \n",
      " 31  Locale                   7 non-null      object \n",
      " 32  Locus                    4 non-null      object \n",
      " 33  Excavation               7 non-null      object \n",
      " 34  River                    2 non-null      object \n",
      " 35  Classification           173 non-null    object \n",
      " 36  Rights and Reproduction  7 non-null      object \n",
      " 37  Link Resource            204 non-null    object \n",
      " 38  Metadata Date            204 non-null    object \n",
      " 39  Repository               204 non-null    object \n",
      " 40  Tags                     111 non-null    object \n",
      "dtypes: float64(1), int64(2), object(38)\n",
      "memory usage: 65.5+ KB\n"
     ]
    }
   ],
   "source": [
    "# show the information\n",
    "data.info()"
   ]
  },
  {
   "cell_type": "markdown",
   "metadata": {},
   "source": [
    "## 2 Data Cleanning\n",
    "### 2.1 Remove Useless Columns"
   ]
  },
  {
   "cell_type": "code",
   "execution_count": 102,
   "metadata": {},
   "outputs": [],
   "source": [
    "relevant_columns = ['Object ID', 'Department', 'Object Name', 'Title', 'Culture', \n",
    "                    'Artist Nationality', 'Object Begin Date', 'Object End Date', \n",
    "                    'Medium', 'Credit Line', 'Country']\n",
    "df_cleaned = data[relevant_columns]"
   ]
  },
  {
   "cell_type": "code",
   "execution_count": 118,
   "metadata": {},
   "outputs": [],
   "source": [
    "df_cleaned.isnull().sum()  \n",
    "df_cleaned = df_cleaned.dropna(subset=['Object ID', 'Department', 'Object Name', 'Title', 'Culture',\n",
    "                                       'Artist Nationality', 'Object Begin Date', 'Object End Date', \n",
    "                                       'Medium', 'Credit Line', 'Country'])"
   ]
  },
  {
   "cell_type": "markdown",
   "metadata": {},
   "source": [
    "### 2.2 Fill the Null"
   ]
  },
  {
   "cell_type": "code",
   "execution_count": 119,
   "metadata": {},
   "outputs": [
    {
     "data": {
      "text/plain": [
       "Object Number              False\n",
       "Object ID                  False\n",
       "Department                 False\n",
       "Object Name                False\n",
       "Title                      False\n",
       "Culture                    False\n",
       "Period                      True\n",
       "Dynasty                     True\n",
       "Reign                       True\n",
       "Portfolio                   True\n",
       "Artist Role                 True\n",
       "Artist Prefix               True\n",
       "Artist Display Name         True\n",
       "Artist Display Bio          True\n",
       "Artist Suffix               True\n",
       "Artist Nationality         False\n",
       "Artist Begin Date           True\n",
       "Artist End Date             True\n",
       "Object Date                 True\n",
       "Object Begin Date          False\n",
       "Object End Date            False\n",
       "Medium                     False\n",
       "Dimensions                  True\n",
       "Credit Line                False\n",
       "Geography Type              True\n",
       "City                        True\n",
       "State                       True\n",
       "County                      True\n",
       "Country                    False\n",
       "Region                      True\n",
       "Subregion                   True\n",
       "Locale                      True\n",
       "Locus                       True\n",
       "Excavation                  True\n",
       "River                       True\n",
       "Classification              True\n",
       "Rights and Reproduction     True\n",
       "Link Resource              False\n",
       "Metadata Date              False\n",
       "Repository                 False\n",
       "Tags                        True\n",
       "dtype: bool"
      ]
     },
     "execution_count": 119,
     "metadata": {},
     "output_type": "execute_result"
    }
   ],
   "source": [
    "data.isna().any().any() and data.isnull().any()"
   ]
  },
  {
   "cell_type": "code",
   "execution_count": 120,
   "metadata": {},
   "outputs": [
    {
     "name": "stdout",
     "output_type": "stream",
     "text": [
      "<class 'pandas.core.frame.DataFrame'>\n",
      "Int64Index: 179 entries, 0 to 203\n",
      "Data columns (total 41 columns):\n",
      " #   Column                   Non-Null Count  Dtype \n",
      "---  ------                   --------------  ----- \n",
      " 0   Object Number            179 non-null    object\n",
      " 1   Object ID                179 non-null    int64 \n",
      " 2   Department               179 non-null    object\n",
      " 3   Object Name              179 non-null    object\n",
      " 4   Title                    179 non-null    object\n",
      " 5   Culture                  179 non-null    object\n",
      " 6   Period                   12 non-null     object\n",
      " 7   Dynasty                  5 non-null      object\n",
      " 8   Reign                    2 non-null      object\n",
      " 9   Portfolio                8 non-null      object\n",
      " 10  Artist Role              124 non-null    object\n",
      " 11  Artist Prefix            38 non-null     object\n",
      " 12  Artist Display Name      124 non-null    object\n",
      " 13  Artist Display Bio       105 non-null    object\n",
      " 14  Artist Suffix            5 non-null      object\n",
      " 15  Artist Nationality       179 non-null    object\n",
      " 16  Artist Begin Date        95 non-null     object\n",
      " 17  Artist End Date          94 non-null     object\n",
      " 18  Object Date              175 non-null    object\n",
      " 19  Object Begin Date        179 non-null    object\n",
      " 20  Object End Date          179 non-null    object\n",
      " 21  Medium                   179 non-null    object\n",
      " 22  Dimensions               151 non-null    object\n",
      " 23  Credit Line              179 non-null    object\n",
      " 24  Geography Type           17 non-null     object\n",
      " 25  City                     14 non-null     object\n",
      " 26  State                    0 non-null      object\n",
      " 27  County                   3 non-null      object\n",
      " 28  Country                  179 non-null    object\n",
      " 29  Region                   10 non-null     object\n",
      " 30  Subregion                6 non-null      object\n",
      " 31  Locale                   3 non-null      object\n",
      " 32  Locus                    1 non-null      object\n",
      " 33  Excavation               3 non-null      object\n",
      " 34  River                    1 non-null      object\n",
      " 35  Classification           155 non-null    object\n",
      " 36  Rights and Reproduction  7 non-null      object\n",
      " 37  Link Resource            179 non-null    object\n",
      " 38  Metadata Date            179 non-null    object\n",
      " 39  Repository               179 non-null    object\n",
      " 40  Tags                     101 non-null    object\n",
      "dtypes: int64(1), object(40)\n",
      "memory usage: 58.7+ KB\n"
     ]
    }
   ],
   "source": [
    "data.info()"
   ]
  },
  {
   "cell_type": "code",
   "execution_count": 121,
   "metadata": {},
   "outputs": [
    {
     "data": {
      "text/html": [
       "<div>\n",
       "<style scoped>\n",
       "    .dataframe tbody tr th:only-of-type {\n",
       "        vertical-align: middle;\n",
       "    }\n",
       "\n",
       "    .dataframe tbody tr th {\n",
       "        vertical-align: top;\n",
       "    }\n",
       "\n",
       "    .dataframe thead th {\n",
       "        text-align: right;\n",
       "    }\n",
       "</style>\n",
       "<table border=\"1\" class=\"dataframe\">\n",
       "  <thead>\n",
       "    <tr style=\"text-align: right;\">\n",
       "      <th></th>\n",
       "      <th>Object Number</th>\n",
       "      <th>Object ID</th>\n",
       "      <th>Department</th>\n",
       "      <th>Object Name</th>\n",
       "      <th>Title</th>\n",
       "      <th>Culture</th>\n",
       "      <th>Period</th>\n",
       "      <th>Dynasty</th>\n",
       "      <th>Reign</th>\n",
       "      <th>Portfolio</th>\n",
       "      <th>...</th>\n",
       "      <th>Locale</th>\n",
       "      <th>Locus</th>\n",
       "      <th>Excavation</th>\n",
       "      <th>River</th>\n",
       "      <th>Classification</th>\n",
       "      <th>Rights and Reproduction</th>\n",
       "      <th>Link Resource</th>\n",
       "      <th>Metadata Date</th>\n",
       "      <th>Repository</th>\n",
       "      <th>Tags</th>\n",
       "    </tr>\n",
       "  </thead>\n",
       "  <tbody>\n",
       "    <tr>\n",
       "      <th>0</th>\n",
       "      <td>62.16</td>\n",
       "      <td>1674</td>\n",
       "      <td>American Decorative Arts</td>\n",
       "      <td>Side Chair</td>\n",
       "      <td>Side Chair</td>\n",
       "      <td>American</td>\n",
       "      <td>NaN</td>\n",
       "      <td>NaN</td>\n",
       "      <td>NaN</td>\n",
       "      <td>NaN</td>\n",
       "      <td>...</td>\n",
       "      <td>NaN</td>\n",
       "      <td>NaN</td>\n",
       "      <td>NaN</td>\n",
       "      <td>NaN</td>\n",
       "      <td>Furniture</td>\n",
       "      <td>NaN</td>\n",
       "      <td>http://www.metmuseum.org/art/collection/search...</td>\n",
       "      <td>5/13/2019 8:00</td>\n",
       "      <td>Metropolitan Museum of Art, New York, NY</td>\n",
       "      <td>Chairs</td>\n",
       "    </tr>\n",
       "    <tr>\n",
       "      <th>1</th>\n",
       "      <td>13.7.17</td>\n",
       "      <td>2430</td>\n",
       "      <td>American Decorative Arts</td>\n",
       "      <td>Pitcher</td>\n",
       "      <td>Covered Pitcher</td>\n",
       "      <td>American</td>\n",
       "      <td>NaN</td>\n",
       "      <td>NaN</td>\n",
       "      <td>NaN</td>\n",
       "      <td>NaN</td>\n",
       "      <td>...</td>\n",
       "      <td>NaN</td>\n",
       "      <td>NaN</td>\n",
       "      <td>NaN</td>\n",
       "      <td>NaN</td>\n",
       "      <td>Ceramics</td>\n",
       "      <td>NaN</td>\n",
       "      <td>http://www.metmuseum.org/art/collection/search...</td>\n",
       "      <td>5/13/2019 8:00</td>\n",
       "      <td>Metropolitan Museum of Art, New York, NY</td>\n",
       "      <td>Pitchers</td>\n",
       "    </tr>\n",
       "    <tr>\n",
       "      <th>2</th>\n",
       "      <td>33.85.11</td>\n",
       "      <td>6406</td>\n",
       "      <td>American Decorative Arts</td>\n",
       "      <td>Plate</td>\n",
       "      <td>Plate</td>\n",
       "      <td>Dutch</td>\n",
       "      <td>NaN</td>\n",
       "      <td>NaN</td>\n",
       "      <td>NaN</td>\n",
       "      <td>NaN</td>\n",
       "      <td>...</td>\n",
       "      <td>NaN</td>\n",
       "      <td>NaN</td>\n",
       "      <td>NaN</td>\n",
       "      <td>NaN</td>\n",
       "      <td>Ceramics</td>\n",
       "      <td>NaN</td>\n",
       "      <td>http://www.metmuseum.org/art/collection/search...</td>\n",
       "      <td>5/13/2019 8:00</td>\n",
       "      <td>Metropolitan Museum of Art, New York, NY</td>\n",
       "      <td>NaN</td>\n",
       "    </tr>\n",
       "    <tr>\n",
       "      <th>3</th>\n",
       "      <td>69.194.109</td>\n",
       "      <td>7616</td>\n",
       "      <td>American Decorative Arts</td>\n",
       "      <td>Soup bowl</td>\n",
       "      <td>Soup Bowl</td>\n",
       "      <td>American</td>\n",
       "      <td>NaN</td>\n",
       "      <td>NaN</td>\n",
       "      <td>NaN</td>\n",
       "      <td>NaN</td>\n",
       "      <td>...</td>\n",
       "      <td>NaN</td>\n",
       "      <td>NaN</td>\n",
       "      <td>NaN</td>\n",
       "      <td>NaN</td>\n",
       "      <td>Ceramics</td>\n",
       "      <td>NaN</td>\n",
       "      <td>http://www.metmuseum.org/art/collection/search...</td>\n",
       "      <td>5/13/2019 8:00</td>\n",
       "      <td>Metropolitan Museum of Art, New York, NY</td>\n",
       "      <td>Bowls</td>\n",
       "    </tr>\n",
       "    <tr>\n",
       "      <th>4</th>\n",
       "      <td>2006.235.20</td>\n",
       "      <td>15012</td>\n",
       "      <td>American Decorative Arts</td>\n",
       "      <td>Painting, miniature</td>\n",
       "      <td>Portrait of a Lady</td>\n",
       "      <td>American</td>\n",
       "      <td>NaN</td>\n",
       "      <td>NaN</td>\n",
       "      <td>NaN</td>\n",
       "      <td>NaN</td>\n",
       "      <td>...</td>\n",
       "      <td>NaN</td>\n",
       "      <td>NaN</td>\n",
       "      <td>NaN</td>\n",
       "      <td>NaN</td>\n",
       "      <td>Paintings</td>\n",
       "      <td>NaN</td>\n",
       "      <td>http://www.metmuseum.org/art/collection/search...</td>\n",
       "      <td>5/13/2019 8:00</td>\n",
       "      <td>Metropolitan Museum of Art, New York, NY</td>\n",
       "      <td>Pendants|Portraits|Women</td>\n",
       "    </tr>\n",
       "    <tr>\n",
       "      <th>...</th>\n",
       "      <td>...</td>\n",
       "      <td>...</td>\n",
       "      <td>...</td>\n",
       "      <td>...</td>\n",
       "      <td>...</td>\n",
       "      <td>...</td>\n",
       "      <td>...</td>\n",
       "      <td>...</td>\n",
       "      <td>...</td>\n",
       "      <td>...</td>\n",
       "      <td>...</td>\n",
       "      <td>...</td>\n",
       "      <td>...</td>\n",
       "      <td>...</td>\n",
       "      <td>...</td>\n",
       "      <td>...</td>\n",
       "      <td>...</td>\n",
       "      <td>...</td>\n",
       "      <td>...</td>\n",
       "      <td>...</td>\n",
       "      <td>...</td>\n",
       "    </tr>\n",
       "    <tr>\n",
       "      <th>199</th>\n",
       "      <td>63.350.329.701-1.16</td>\n",
       "      <td>779306</td>\n",
       "      <td>Drawings and Prints</td>\n",
       "      <td>Trade card</td>\n",
       "      <td>Packard-Tourist, from the \"Antique Autos\" seri...</td>\n",
       "      <td>Unknown Culture</td>\n",
       "      <td>NaN</td>\n",
       "      <td>NaN</td>\n",
       "      <td>NaN</td>\n",
       "      <td>NaN</td>\n",
       "      <td>...</td>\n",
       "      <td>NaN</td>\n",
       "      <td>NaN</td>\n",
       "      <td>NaN</td>\n",
       "      <td>NaN</td>\n",
       "      <td>Prints|Ephemera</td>\n",
       "      <td>NaN</td>\n",
       "      <td>http://www.metmuseum.org/art/collection/search...</td>\n",
       "      <td>5/13/2019 8:00</td>\n",
       "      <td>Metropolitan Museum of Art, New York, NY</td>\n",
       "      <td>NaN</td>\n",
       "    </tr>\n",
       "    <tr>\n",
       "      <th>200</th>\n",
       "      <td>63.350.244.87.182</td>\n",
       "      <td>785013</td>\n",
       "      <td>Drawings and Prints</td>\n",
       "      <td>Print; ephemera</td>\n",
       "      <td>Norwegian Air Force In Canada Patrol Bomber (N...</td>\n",
       "      <td>Unknown Culture</td>\n",
       "      <td>NaN</td>\n",
       "      <td>NaN</td>\n",
       "      <td>NaN</td>\n",
       "      <td>NaN</td>\n",
       "      <td>...</td>\n",
       "      <td>NaN</td>\n",
       "      <td>NaN</td>\n",
       "      <td>NaN</td>\n",
       "      <td>NaN</td>\n",
       "      <td>Prints|Ephemera</td>\n",
       "      <td>NaN</td>\n",
       "      <td>http://www.metmuseum.org/art/collection/search...</td>\n",
       "      <td>5/13/2019 8:00</td>\n",
       "      <td>Metropolitan Museum of Art, New York, NY</td>\n",
       "      <td>NaN</td>\n",
       "    </tr>\n",
       "    <tr>\n",
       "      <th>201</th>\n",
       "      <td>1980.1119(1)</td>\n",
       "      <td>813925</td>\n",
       "      <td>Drawings and Prints</td>\n",
       "      <td>Print</td>\n",
       "      <td>Stonehenge</td>\n",
       "      <td>Unknown Culture</td>\n",
       "      <td>NaN</td>\n",
       "      <td>NaN</td>\n",
       "      <td>NaN</td>\n",
       "      <td>Ruins and Landscapes</td>\n",
       "      <td>...</td>\n",
       "      <td>NaN</td>\n",
       "      <td>NaN</td>\n",
       "      <td>NaN</td>\n",
       "      <td>NaN</td>\n",
       "      <td>Prints</td>\n",
       "      <td>© Philip Pearlstein</td>\n",
       "      <td>http://www.metmuseum.org/art/collection/search...</td>\n",
       "      <td>5/13/2019 8:00</td>\n",
       "      <td>Metropolitan Museum of Art, New York, NY</td>\n",
       "      <td>NaN</td>\n",
       "    </tr>\n",
       "    <tr>\n",
       "      <th>202</th>\n",
       "      <td>1986.1180.249</td>\n",
       "      <td>820618</td>\n",
       "      <td>Drawings and Prints</td>\n",
       "      <td>Print</td>\n",
       "      <td>Psyche, holding the flask of beauty being tran...</td>\n",
       "      <td>Unknown Culture</td>\n",
       "      <td>NaN</td>\n",
       "      <td>NaN</td>\n",
       "      <td>NaN</td>\n",
       "      <td>NaN</td>\n",
       "      <td>...</td>\n",
       "      <td>NaN</td>\n",
       "      <td>NaN</td>\n",
       "      <td>NaN</td>\n",
       "      <td>NaN</td>\n",
       "      <td>Prints</td>\n",
       "      <td>NaN</td>\n",
       "      <td>http://www.metmuseum.org/art/collection/search...</td>\n",
       "      <td>5/13/2019 8:00</td>\n",
       "      <td>Metropolitan Museum of Art, New York, NY</td>\n",
       "      <td>Adam|Eve</td>\n",
       "    </tr>\n",
       "    <tr>\n",
       "      <th>203</th>\n",
       "      <td>67.744.50</td>\n",
       "      <td>824428</td>\n",
       "      <td>Drawings and Prints</td>\n",
       "      <td>Print</td>\n",
       "      <td>Landscape and Cattle</td>\n",
       "      <td>Unknown Culture</td>\n",
       "      <td>NaN</td>\n",
       "      <td>NaN</td>\n",
       "      <td>NaN</td>\n",
       "      <td>New York and Long Island Landscapes</td>\n",
       "      <td>...</td>\n",
       "      <td>NaN</td>\n",
       "      <td>NaN</td>\n",
       "      <td>NaN</td>\n",
       "      <td>NaN</td>\n",
       "      <td>Prints</td>\n",
       "      <td>NaN</td>\n",
       "      <td>http://www.metmuseum.org/art/collection/search...</td>\n",
       "      <td>5/13/2019 8:00</td>\n",
       "      <td>Metropolitan Museum of Art, New York, NY</td>\n",
       "      <td>NaN</td>\n",
       "    </tr>\n",
       "  </tbody>\n",
       "</table>\n",
       "<p>179 rows × 41 columns</p>\n",
       "</div>"
      ],
      "text/plain": [
       "           Object Number  Object ID                Department  \\\n",
       "0                  62.16       1674  American Decorative Arts   \n",
       "1                13.7.17       2430  American Decorative Arts   \n",
       "2               33.85.11       6406  American Decorative Arts   \n",
       "3             69.194.109       7616  American Decorative Arts   \n",
       "4            2006.235.20      15012  American Decorative Arts   \n",
       "..                   ...        ...                       ...   \n",
       "199  63.350.329.701-1.16     779306       Drawings and Prints   \n",
       "200    63.350.244.87.182     785013       Drawings and Prints   \n",
       "201         1980.1119(1)     813925       Drawings and Prints   \n",
       "202        1986.1180.249     820618       Drawings and Prints   \n",
       "203            67.744.50     824428       Drawings and Prints   \n",
       "\n",
       "             Object Name                                              Title  \\\n",
       "0             Side Chair                                         Side Chair   \n",
       "1                Pitcher                                    Covered Pitcher   \n",
       "2                  Plate                                              Plate   \n",
       "3              Soup bowl                                          Soup Bowl   \n",
       "4    Painting, miniature                                 Portrait of a Lady   \n",
       "..                   ...                                                ...   \n",
       "199           Trade card  Packard-Tourist, from the \"Antique Autos\" seri...   \n",
       "200      Print; ephemera  Norwegian Air Force In Canada Patrol Bomber (N...   \n",
       "201                Print                                         Stonehenge   \n",
       "202                Print  Psyche, holding the flask of beauty being tran...   \n",
       "203                Print                               Landscape and Cattle   \n",
       "\n",
       "             Culture Period Dynasty Reign  \\\n",
       "0           American    NaN     NaN   NaN   \n",
       "1           American    NaN     NaN   NaN   \n",
       "2              Dutch    NaN     NaN   NaN   \n",
       "3           American    NaN     NaN   NaN   \n",
       "4           American    NaN     NaN   NaN   \n",
       "..               ...    ...     ...   ...   \n",
       "199  Unknown Culture    NaN     NaN   NaN   \n",
       "200  Unknown Culture    NaN     NaN   NaN   \n",
       "201  Unknown Culture    NaN     NaN   NaN   \n",
       "202  Unknown Culture    NaN     NaN   NaN   \n",
       "203  Unknown Culture    NaN     NaN   NaN   \n",
       "\n",
       "                               Portfolio  ... Locale Locus Excavation River  \\\n",
       "0                                    NaN  ...    NaN   NaN        NaN   NaN   \n",
       "1                                    NaN  ...    NaN   NaN        NaN   NaN   \n",
       "2                                    NaN  ...    NaN   NaN        NaN   NaN   \n",
       "3                                    NaN  ...    NaN   NaN        NaN   NaN   \n",
       "4                                    NaN  ...    NaN   NaN        NaN   NaN   \n",
       "..                                   ...  ...    ...   ...        ...   ...   \n",
       "199                                  NaN  ...    NaN   NaN        NaN   NaN   \n",
       "200                                  NaN  ...    NaN   NaN        NaN   NaN   \n",
       "201                 Ruins and Landscapes  ...    NaN   NaN        NaN   NaN   \n",
       "202                                  NaN  ...    NaN   NaN        NaN   NaN   \n",
       "203  New York and Long Island Landscapes  ...    NaN   NaN        NaN   NaN   \n",
       "\n",
       "      Classification Rights and Reproduction  \\\n",
       "0          Furniture                     NaN   \n",
       "1           Ceramics                     NaN   \n",
       "2           Ceramics                     NaN   \n",
       "3           Ceramics                     NaN   \n",
       "4          Paintings                     NaN   \n",
       "..               ...                     ...   \n",
       "199  Prints|Ephemera                     NaN   \n",
       "200  Prints|Ephemera                     NaN   \n",
       "201           Prints     © Philip Pearlstein   \n",
       "202           Prints                     NaN   \n",
       "203           Prints                     NaN   \n",
       "\n",
       "                                         Link Resource   Metadata Date  \\\n",
       "0    http://www.metmuseum.org/art/collection/search...  5/13/2019 8:00   \n",
       "1    http://www.metmuseum.org/art/collection/search...  5/13/2019 8:00   \n",
       "2    http://www.metmuseum.org/art/collection/search...  5/13/2019 8:00   \n",
       "3    http://www.metmuseum.org/art/collection/search...  5/13/2019 8:00   \n",
       "4    http://www.metmuseum.org/art/collection/search...  5/13/2019 8:00   \n",
       "..                                                 ...             ...   \n",
       "199  http://www.metmuseum.org/art/collection/search...  5/13/2019 8:00   \n",
       "200  http://www.metmuseum.org/art/collection/search...  5/13/2019 8:00   \n",
       "201  http://www.metmuseum.org/art/collection/search...  5/13/2019 8:00   \n",
       "202  http://www.metmuseum.org/art/collection/search...  5/13/2019 8:00   \n",
       "203  http://www.metmuseum.org/art/collection/search...  5/13/2019 8:00   \n",
       "\n",
       "                                   Repository                      Tags  \n",
       "0    Metropolitan Museum of Art, New York, NY                    Chairs  \n",
       "1    Metropolitan Museum of Art, New York, NY                  Pitchers  \n",
       "2    Metropolitan Museum of Art, New York, NY                       NaN  \n",
       "3    Metropolitan Museum of Art, New York, NY                     Bowls  \n",
       "4    Metropolitan Museum of Art, New York, NY  Pendants|Portraits|Women  \n",
       "..                                        ...                       ...  \n",
       "199  Metropolitan Museum of Art, New York, NY                       NaN  \n",
       "200  Metropolitan Museum of Art, New York, NY                       NaN  \n",
       "201  Metropolitan Museum of Art, New York, NY                       NaN  \n",
       "202  Metropolitan Museum of Art, New York, NY                  Adam|Eve  \n",
       "203  Metropolitan Museum of Art, New York, NY                       NaN  \n",
       "\n",
       "[179 rows x 41 columns]"
      ]
     },
     "execution_count": 121,
     "metadata": {},
     "output_type": "execute_result"
    }
   ],
   "source": [
    "data[data.isnull().T.any()]"
   ]
  },
  {
   "cell_type": "code",
   "execution_count": 122,
   "metadata": {},
   "outputs": [],
   "source": [
    "data['Department'] = data['Department'].fillna('Unknown Department')\n",
    "data['Object Name'] = data['Object Name'].fillna('Untitled Object')\n",
    "data['Title'] = data['Title'].fillna('Untitled')\n",
    "data['Culture'] = data['Culture'].fillna('Unknown Culture')\n",
    "data['Artist Nationality'] = data['Artist Nationality'].fillna('Unknown Nationality')\n",
    "data['Object End Date'] = data['Object End Date'].fillna(data['Object Begin Date'])\n",
    "data['Medium'] = data['Medium'].fillna('Unknown Medium')\n",
    "data['Country'] = data['Country'].fillna('Unknown Country')"
   ]
  },
  {
   "cell_type": "markdown",
   "metadata": {},
   "source": [
    "### 2.3 Drop Duplicates"
   ]
  },
  {
   "cell_type": "code",
   "execution_count": 124,
   "metadata": {},
   "outputs": [],
   "source": [
    "relevant_columns = ['Object ID', 'Department', 'Object Name', 'Title', 'Culture', \n",
    "                    'Artist Nationality', 'Object Begin Date', 'Object End Date', \n",
    "                    'Medium', 'Credit Line', 'Country']\n",
    "df_cleaned = data[relevant_columns]\n"
   ]
  },
  {
   "cell_type": "code",
   "execution_count": 133,
   "metadata": {},
   "outputs": [],
   "source": [
    "data = data.drop_duplicates()"
   ]
  },
  {
   "cell_type": "markdown",
   "metadata": {},
   "source": [
    "### 2.4 Convert the Object End Date column from float to int."
   ]
  },
  {
   "cell_type": "code",
   "execution_count": 135,
   "metadata": {},
   "outputs": [
    {
     "name": "stderr",
     "output_type": "stream",
     "text": [
      "/tmp/ipykernel_1173538/673058174.py:1: SettingWithCopyWarning: \n",
      "A value is trying to be set on a copy of a slice from a DataFrame.\n",
      "Try using .loc[row_indexer,col_indexer] = value instead\n",
      "\n",
      "See the caveats in the documentation: https://pandas.pydata.org/pandas-docs/stable/user_guide/indexing.html#returning-a-view-versus-a-copy\n",
      "  df_cleaned['Department'] = df_cleaned['Department'].str.lower()\n"
     ]
    }
   ],
   "source": [
    "df_cleaned['Department'] = df_cleaned['Department'].str.lower()"
   ]
  },
  {
   "cell_type": "markdown",
   "metadata": {},
   "source": [
    "### 2.5 Make Column 'Cluture' consistent "
   ]
  },
  {
   "cell_type": "markdown",
   "metadata": {},
   "source": [
    "df_cleaned = df_cleaned[df_cleaned['Object Begin Date'] <= df_cleaned['Object End Date']]"
   ]
  },
  {
   "cell_type": "markdown",
   "metadata": {},
   "source": [
    "### 2.6 Make Column 'Artist Nationality' consistent "
   ]
  },
  {
   "cell_type": "code",
   "execution_count": 141,
   "metadata": {},
   "outputs": [
    {
     "data": {
      "text/plain": [
       "array(['Unknown Nationality', 'Chinese', 'Japanese', 'British',\n",
       "       'American', 'Italian', 'French, Italy', 'French', 'Belgian',\n",
       "       'Dutch', 'German, Netherlandish', 'British, French',\n",
       "       'French, Italian', 'German', 'American, Russia', 'Finnish',\n",
       "       'British, Scottish', 'Mexican', 'German, Italian', 'Canadian',\n",
       "       'British, British, Scottish, Scottish', 'Austrian',\n",
       "       'British, Italian', 'American, German'], dtype=object)"
      ]
     },
     "execution_count": 141,
     "metadata": {},
     "output_type": "execute_result"
    }
   ],
   "source": [
    "def adjust_na(value):\n",
    "\n",
    "    value = value.title().strip()\n",
    "    \n",
    "    nationalities = set(value.split('|'))\n",
    "    \n",
    "    nationalities = {nat.replace('?', '').strip() for nat in nationalities}\n",
    "    \n",
    "    cleaned_value = ', '.join(sorted(nationalities))\n",
    "    \n",
    "    cleaned_value = cleaned_value.replace('Born ', '')\n",
    "    \n",
    "    return cleaned_value\n",
    "\n",
    "data['Artist Nationality'] = data['Artist Nationality'].apply(adjust_na)\n",
    "\n",
    "data['Artist Nationality'].unique()"
   ]
  },
  {
   "cell_type": "markdown",
   "metadata": {},
   "source": [
    "### 2.7 Make Column 'Object End Date' & 'Object Begin Date' consistent"
   ]
  },
  {
   "cell_type": "code",
   "execution_count": 145,
   "metadata": {},
   "outputs": [],
   "source": [
    "\n",
    "invalid_rows = data[data['Object End Date'] < data['Object Begin Date']]"
   ]
  },
  {
   "cell_type": "code",
   "execution_count": 146,
   "metadata": {},
   "outputs": [],
   "source": [
    "data = data.drop(invalid_rows.index)"
   ]
  },
  {
   "cell_type": "markdown",
   "metadata": {},
   "source": [
    "### 2.8 Make Column 'Medium' consistent"
   ]
  },
  {
   "cell_type": "code",
   "execution_count": 100,
   "metadata": {},
   "outputs": [],
   "source": [
    "# formatting the unavailable or unknown value of 'Medium' to 'Unknown'\n",
    "data['Medium'].replace({\n",
    "    '[no medium available]': 'Unknown', \n",
    "    'Unknown Medium': 'Unknown'        \n",
    "}, inplace=True)\n"
   ]
  },
  {
   "cell_type": "markdown",
   "metadata": {},
   "source": [
    "### 2.9 Make Column 'Coutry' consistent"
   ]
  },
  {
   "cell_type": "code",
   "execution_count": 151,
   "metadata": {},
   "outputs": [],
   "source": [
    "\n",
    "country_replacements = {\n",
    "    'USA': 'United States',                  \n",
    "    'present-day Uzbekistan': 'Uzbekistan',     \n",
    "    'present-day France': 'France',             \n",
    "    'Unknown Country': 'Unknown',              \n",
    "}\n",
    "\n",
    "\n",
    "def clean_country(country):\n",
    "    return country_replacements.get(country, country)\n",
    "\n",
    "data['Country'] = data['Country'].apply(clean_country)"
   ]
  },
  {
   "cell_type": "markdown",
   "metadata": {},
   "source": [
    "# Task 2"
   ]
  },
  {
   "cell_type": "markdown",
   "metadata": {},
   "source": [
    "#### 1.\tWhat are the 3 Vs of Data and explain each one in detail?\n",
    "**Volume:** Refers to the massive amount of data generated every second from various sources like social media, sensors, transactions. It can range from terabytes to petabytes in scale, especially with big data.\n",
    "\n",
    "**Velocity:** Refers to the speed at which data is generated, collected, and analyzed. Real-time or near real-time data processing is often required for timely decision-making.\n",
    "\n",
    "**Variety:** Describes the different types and formats of data - structured (databases), semi-structured (XML, JSON), and unstructured (text, images, videos).\n"
   ]
  },
  {
   "cell_type": "markdown",
   "metadata": {},
   "source": [
    "#### 2. List capabilities of Business Intelligence systems.\n",
    "**Data Integration:** BI tools can integrate data from various sources.\n",
    "**Reporting and Analysis:** Allows for the creation of reports and dashboards for decision-making.\n",
    "**Data Mining:** Extracts patterns from large datasets.\n",
    "**Predictive Analytics:** Uses statistical models to predict future trends.\n",
    "**Performance Management:** Tracks and monitors organizational performance via KPIs."
   ]
  },
  {
   "cell_type": "markdown",
   "metadata": {},
   "source": [
    "#### 3. Different types of data with example for each type.\n",
    "**Structured:** Organized data like databases (e.g., SQL tables).\n",
    "**Semi-structured:** Partially organized data (e.g., JSON, XML).\n",
    "**Unstructured:** No fixed format (e.g., emails, social media posts)."
   ]
  },
  {
   "cell_type": "markdown",
   "metadata": {},
   "source": [
    "#### 4.\tDefine data visualization.\n",
    "The graphical representation of data (e.g., charts, graphs) to make insights clearer and easier to understand."
   ]
  },
  {
   "cell_type": "markdown",
   "metadata": {},
   "source": [
    "#### 5.\tWhat is a KPI and provide an example (apart from one that has been already provided within the lecture)\n",
    "**Key Performance Indicator: **A measurable value that indicates how effectively a company is achieving its business objectives.\n",
    "Example: Customer Satisfaction Score (CSAT) for tracking customer feedback."
   ]
  },
  {
   "cell_type": "markdown",
   "metadata": {},
   "source": [
    "#### 6.\tWhat is a BI system? \n",
    "A system that helps organizations collect, integrate, analyze, and present business information to improve decision-making.\n"
   ]
  },
  {
   "cell_type": "markdown",
   "metadata": {},
   "source": [
    "#### 7.\tWhat are the 5 C's of Data for data preparation and the purpose of each?\n",
    "**Clean:** Ensure data is free from errors.\n",
    "**Conform:** Ensure consistency in data formatting.\n",
    "**Catalog:** Organize and document data for easy retrieval.\n",
    "**Control:** Monitor and maintain data quality.\n",
    "**Combine:** Integrate data from various sources into a unified form."
   ]
  },
  {
   "cell_type": "markdown",
   "metadata": {},
   "source": [
    "#### 8.\tWhat are some Key Success Factors of a Successful BI Program and explain each factor?\n",
    "**Leadership Support: Strong backing from senior management.\n",
    "**Clear Objectives:** Defined goals and expectations.\n",
    "**Data Quality:** High-quality, accurate data.\n",
    "**User Adoption:** Ensuring that end-users are comfortable with the BI tools.\n",
    "**Scalability:** Ability to scale the BI system as data grows.\n",
    "**Continuous Improvement:** Constantly refining the BI system based on feedback.\n",
    "**Security:** Ensuring that data is secure and access is well-controlled."
   ]
  }
 ],
 "metadata": {
  "kernelspec": {
   "display_name": "Python 3",
   "language": "python",
   "name": "python3"
  },
  "language_info": {
   "codemirror_mode": {
    "name": "ipython",
    "version": 3
   },
   "file_extension": ".py",
   "mimetype": "text/x-python",
   "name": "python",
   "nbconvert_exporter": "python",
   "pygments_lexer": "ipython3",
   "version": "3.10.12"
  }
 },
 "nbformat": 4,
 "nbformat_minor": 2
}
